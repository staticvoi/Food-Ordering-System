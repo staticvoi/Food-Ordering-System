{
  "nbformat": 4,
  "nbformat_minor": 0,
  "metadata": {
    "colab": {
      "name": "food ordering system",
      "provenance": []
    },
    "kernelspec": {
      "name": "python3",
      "display_name": "Python 3"
    }
  },
  "cells": [
    {
      "cell_type": "code",
      "metadata": {
        "id": "Z_CmDJ8yuoxx",
        "colab_type": "code",
        "colab": {}
      },
      "source": [
        "#menu\n",
        "class MenuItem:\n",
        "    def __init__(self, name, price):\n",
        "        self.name = name\n",
        "        self.price = price\n",
        "\n",
        "    def info(self):\n",
        "        return self.name + ': $' + str(self.price)\n",
        "\n",
        "    def get_total_price(self, count):\n",
        "        total_price = self.price * count\n",
        "\n",
        "        if count >= 3:\n",
        "            total_price *= 0.9\n",
        "\n",
        "        return round(total_price)\n"
      ],
      "execution_count": 3,
      "outputs": []
    },
    {
      "cell_type": "code",
      "metadata": {
        "id": "GYcMlUhGutcK",
        "colab_type": "code",
        "colab": {}
      },
      "source": [
        "#food\n",
        "#from menu_item import MenuItem\n",
        "\n",
        "class Food(MenuItem):\n",
        "    def __init__(self, name, price, calorie_count):\n",
        "        super().__init__(name, price)\n",
        "        self.calorie_count = calorie_count\n",
        "    \n",
        "    def info(self):\n",
        "        return self.name + ': $' + str(self.price) + ' (' + str(self.calorie_count) + 'kcal)'\n",
        "    \n",
        "    def calorie_info(self):\n",
        "        print('kcal: ' + str(self.calorie_count))\n"
      ],
      "execution_count": 6,
      "outputs": []
    },
    {
      "cell_type": "code",
      "metadata": {
        "id": "-WV-S--DvEoT",
        "colab_type": "code",
        "colab": {}
      },
      "source": [
        "#drinks\n",
        "#from menu_item import MenuItem\n",
        "\n",
        "class Drink(MenuItem):\n",
        "    def __init__(self, name, price, volume):\n",
        "        super().__init__(name, price)\n",
        "        self.volume = volume\n",
        "\n",
        "    def info(self):\n",
        "        return self.name + ': Rs. ' + str(self.price) + ' (' + str(self.volume) + 'mL)'\n"
      ],
      "execution_count": 7,
      "outputs": []
    },
    {
      "cell_type": "code",
      "metadata": {
        "id": "LYEcu6ePvbi6",
        "colab_type": "code",
        "colab": {
          "base_uri": "https://localhost:8080/",
          "height": 272
        },
        "outputId": "e33575ca-092e-4cd7-a97e-aa33078dc28b"
      },
      "source": [
        "#main script\n",
        "#afrom food import Food\n",
        "#from drink import Drink\n",
        "# For error handling;\n",
        "import sys\n",
        "\n",
        "food1 = Food('Sandwich', 50, 330)\n",
        "food2 = Food('Chocolate Cake', 40, 450)\n",
        "food3 = Food('Cream Puff', 20, 180)\n",
        "\n",
        "foods = [food1, food2, food3]\n",
        "\n",
        "drink1 = Drink('Coffee', 30, 180)\n",
        "drink2 = Drink('Orange Juice', 20, 350)\n",
        "drink3 = Drink('Espresso', 30, 30)\n",
        "\n",
        "drinks = [drink1, drink2, drink3]\n",
        "print('--------------------')\n",
        "print('Food')\n",
        "\n",
        "for index, food in enumerate(foods):\n",
        "    print(str(index) + '. ' + food.info())\n",
        "\n",
        "print('--------------------')\n",
        "print('Drinks')\n",
        "\n",
        "for index, drink in enumerate(drinks):\n",
        "    print(str(index) + '. ' + drink.info())\n",
        "    index += 1\n",
        " \n",
        "print('--------------------')\n",
        "\n",
        "while(True):\n",
        "    food_order = int(input('Enter food item number: '))\n",
        "    \n",
        "    try:\n",
        "        selected_food = foods[food_order]\n",
        "    except:\n",
        "        print(\"Oops!\",sys.exc_info()[0],\"occured.\")\n",
        "        print(\"Please try again!\")\n",
        "        continue\n",
        "\n",
        "\n",
        "    drink_order = int(input('Enter drink item number: '))\n",
        "\n",
        "    try:\n",
        "        selected_drink = drinks[drink_order]\n",
        "    except:\n",
        "        print(\"Oops!\",sys.exc_info()[0],\"occured.\")\n",
        "        print(\"Please try again!\")\n",
        "        continue\n",
        "\n",
        "    break\n",
        "\n",
        "# Take input from the console and assign it to the count variable\n",
        "count = int(input('How many meals would you like to purchase? (10% off for 3 or more): '))\n",
        "\n",
        "# Call the get_total_price method from selected_food and from selected_drink\n",
        "result = selected_food.get_total_price(count) + selected_drink.get_total_price(count)\n",
        "\n",
        "print('Your total is Rs. ' + str(result))"
      ],
      "execution_count": 8,
      "outputs": [
        {
          "output_type": "stream",
          "text": [
            "--------------------\n",
            "Food\n",
            "0. Sandwich: $50 (330kcal)\n",
            "1. Chocolate Cake: $40 (450kcal)\n",
            "2. Cream Puff: $20 (180kcal)\n",
            "--------------------\n",
            "Drinks\n",
            "0. Coffee: Rs. 30 (180mL)\n",
            "1. Orange Juice: Rs. 20 (350mL)\n",
            "2. Espresso: Rs. 30 (30mL)\n",
            "--------------------\n",
            "Enter food item number: 0\n",
            "Enter drink item number: 2\n",
            "How many meals would you like to purchase? (10% off for 3 or more): 2\n",
            "Your total is Rs. 160\n"
          ],
          "name": "stdout"
        }
      ]
    }
  ]
}